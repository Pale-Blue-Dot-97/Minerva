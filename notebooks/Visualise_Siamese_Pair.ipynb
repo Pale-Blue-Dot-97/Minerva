{
 "cells": [
  {
   "attachments": {},
   "cell_type": "markdown",
   "metadata": {},
   "source": [
    "Copyright (C) 2023 Harry Baker\n",
    "\n",
    "This program is free software: you can redistribute it and/or modify\n",
    "it under the terms of the GNU General Public License as published by\n",
    "the Free Software Foundation, either version 3 of the License, or\n",
    "(at your option) any later version.\n",
    "\n",
    "This program is distributed in the hope that it will be useful,\n",
    "but WITHOUT ANY WARRANTY; without even the implied warranty of\n",
    "MERCHANTABILITY or FITNESS FOR A PARTICULAR PURPOSE.  See the\n",
    "GNU General Public License for more details.\n",
    "\n",
    "You should have received a copy of the GNU General Public License\n",
    "along with this program in LICENSE.txt. If not,\n",
    "see <https://www.gnu.org/licenses/>.\n",
    "\n",
    "@org: University of Southampton\n",
    "Created under a project funded by the Ordnance Survey Ltd."
   ]
  },
  {
   "attachments": {},
   "cell_type": "markdown",
   "metadata": {},
   "source": [
    "Author: Harry Baker\n",
    "\n",
    "Contact: hjb1d20@soton.ac.uk\n",
    "\n",
    "License: GNU GPLv3\n",
    "\n",
    "Copyright: Copyright (C) 2023 Harry Baker"
   ]
  },
  {
   "attachments": {},
   "cell_type": "markdown",
   "metadata": {},
   "source": [
    "# Visualise Siamese Pairs\n",
    "\n",
    "This is a short notebook to visualise the two patches from a pair used in Siamese learning to check the behaviour of the transforms. "
   ]
  },
  {
   "attachments": {},
   "cell_type": "markdown",
   "metadata": {},
   "source": [
    "### Import"
   ]
  },
  {
   "cell_type": "code",
   "execution_count": null,
   "metadata": {},
   "outputs": [],
   "source": [
    "import os\n",
    "import matplotlib.pyplot as plt\n",
    "\n",
    "from minerva.trainer import Trainer\n",
    "from minerva.utils import config_load"
   ]
  },
  {
   "attachments": {},
   "cell_type": "markdown",
   "metadata": {},
   "source": [
    "### Load config\n",
    "\n",
    "For this demonstration, we'll be using the inbuilt `example_GeoCLR_config.yml` config. For this to be successfully loaded in this notebook, we need to change to the `inbuilt_cfgs` directory before loading the config. We then change up to the repositry root level as this config is namely designed to work with pytest running from the root."
   ]
  },
  {
   "cell_type": "code",
   "execution_count": null,
   "metadata": {},
   "outputs": [],
   "source": [
    "os.chdir(\"../inbuilt_cfgs/\")\n",
    "CONFIG, _ = config_load.load_configs(\"example_GeoCLR_config.yml\")\n",
    "os.chdir(\"..\")"
   ]
  },
  {
   "attachments": {},
   "cell_type": "markdown",
   "metadata": {},
   "source": [
    "### Init Trainer\n",
    "\n",
    "Initialises a trainer object using the config we just loaded. `Trainer` is the main entry point to `minerva` so it is by far the easiest way of obtaining a pair of samples from the dataset."
   ]
  },
  {
   "cell_type": "code",
   "execution_count": null,
   "metadata": {},
   "outputs": [],
   "source": [
    "trainer = Trainer(gpu=0, verbose=False, **CONFIG)"
   ]
  },
  {
   "attachments": {},
   "cell_type": "markdown",
   "metadata": {},
   "source": [
    "### Get Batch of Data\n",
    "\n",
    "Now we can use the train dataset loader constructed with `trainer` to get a batch of the data out."
   ]
  },
  {
   "cell_type": "code",
   "execution_count": null,
   "metadata": {},
   "outputs": [],
   "source": [
    "batch = next(iter(trainer.loaders[\"train\"]))"
   ]
  },
  {
   "attachments": {},
   "cell_type": "markdown",
   "metadata": {},
   "source": [
    "### Plotting Images\n",
    "\n",
    "Then it is just a simple task of extracting the images from each side of the pair within the batch of data and and plotting just the RGB channels."
   ]
  },
  {
   "cell_type": "code",
   "execution_count": null,
   "metadata": {},
   "outputs": [],
   "source": [
    "image1 = batch[0][\"image\"][0][0:3, :, :].permute(1, 2, 0)\n",
    "plt.imshow(image1)\n",
    "plt.axis(\"off\")"
   ]
  },
  {
   "cell_type": "code",
   "execution_count": null,
   "metadata": {},
   "outputs": [],
   "source": [
    "image2 = batch[1][\"image\"][0][0:3, :, :].permute(1, 2, 0)\n",
    "plt.imshow(image2)\n",
    "plt.axis(\"off\")"
   ]
  },
  {
   "attachments": {},
   "cell_type": "markdown",
   "metadata": {},
   "source": [
    "Hopefully these results will show two different patches and that the transforms are indeed working."
   ]
  }
 ],
 "metadata": {
  "kernelspec": {
   "display_name": "minerva-310",
   "language": "python",
   "name": "python3"
  },
  "language_info": {
   "codemirror_mode": {
    "name": "ipython",
    "version": 3
   },
   "file_extension": ".py",
   "mimetype": "text/x-python",
   "name": "python",
   "nbconvert_exporter": "python",
   "pygments_lexer": "ipython3",
   "version": "3.10.9"
  },
  "orig_nbformat": 4,
  "vscode": {
   "interpreter": {
    "hash": "3564bae54b830248e5fcf548a4e349b732e585ece6f047dc1ae97c29756580ff"
   }
  }
 },
 "nbformat": 4,
 "nbformat_minor": 2
}
