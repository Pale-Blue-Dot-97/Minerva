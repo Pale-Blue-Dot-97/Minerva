{
 "cells": [
  {
   "cell_type": "code",
   "execution_count": null,
   "metadata": {},
   "outputs": [],
   "source": [
    "import torch\n",
    "from pathlib import Path\n",
    "from torch.utils.data import RandomSampler, DataLoader\n",
    "from torch.optim import Adam\n",
    "from torchgeo.datasets.utils import stack_samples\n",
    "import numpy as np\n",
    "\n",
    "from minerva.loss import AuxCELoss\n",
    "from minerva.datasets import DFC2020\n",
    "from minerva.models import MinervaPSP\n",
    "from minerva.transforms import Normalise, MinervaCompose\n",
    "from minerva.utils.utils import get_cuda_device"
   ]
  },
  {
   "cell_type": "code",
   "execution_count": null,
   "metadata": {},
   "outputs": [],
   "source": [
    "patch_size = (4, 256, 256)\n",
    "feature_dim = 512\n",
    "n_classes = 15\n",
    "batch_size = 16\n",
    "encoder_name = \"resnet18\"\n",
    "encoder_depth = 5\n",
    "pre_train_path = Path(\"../cache/SimConv-MkVIII.pt\")"
   ]
  },
  {
   "cell_type": "code",
   "execution_count": null,
   "metadata": {},
   "outputs": [],
   "source": [
    "device = get_cuda_device(0)"
   ]
  },
  {
   "cell_type": "code",
   "execution_count": null,
   "metadata": {},
   "outputs": [],
   "source": [
    "root = Path(input(\"Path to the root directory containing all the data\"))\n",
    "\n",
    "train_root = root / \"DFC2020\""
   ]
  },
  {
   "cell_type": "code",
   "execution_count": null,
   "metadata": {},
   "outputs": [],
   "source": [
    "train_dataset = DFC2020(str(train_root), split=\"test\", use_s2hr=True, labels=True, transforms=MinervaCompose({\"image\": Normalise(4095)}))\n",
    "val_dataset = DFC2020(str(train_root), split=\"val\", use_s2hr=True, labels=True, transforms=MinervaCompose({\"image\": Normalise(4095)}))"
   ]
  },
  {
   "cell_type": "code",
   "execution_count": null,
   "metadata": {},
   "outputs": [],
   "source": [
    "train_sampler = RandomSampler(train_dataset, num_samples=1096)\n",
    "train_dataloader = DataLoader(train_dataset, sampler=train_sampler, collate_fn=stack_samples, batch_size=batch_size, num_workers=2)"
   ]
  },
  {
   "cell_type": "code",
   "execution_count": null,
   "metadata": {},
   "outputs": [],
   "source": [
    "criterion = AuxCELoss()\n",
    "\n",
    "model = MinervaPSP(\n",
    "    criterion,\n",
    "    patch_size,\n",
    "    n_classes=1,\n",
    "    encoder_name=encoder_name,\n",
    "    encoder_depth=encoder_depth,\n",
    "    psp_out_channels=feature_dim,\n",
    "    #backbone_weight_path=backbone_weight_path\n",
    ")\n",
    "\n",
    "model.load_state_dict(torch.load(pre_train_path))"
   ]
  },
  {
   "cell_type": "code",
   "execution_count": null,
   "metadata": {},
   "outputs": [],
   "source": [
    "model.model.make_segmentation_head(n_classes)"
   ]
  },
  {
   "cell_type": "code",
   "execution_count": null,
   "metadata": {},
   "outputs": [],
   "source": [
    "model.model.make_classification_head({\"classes\": n_classes})"
   ]
  },
  {
   "cell_type": "code",
   "execution_count": null,
   "metadata": {},
   "outputs": [],
   "source": [
    "opt = Adam(model.parameters(), lr=1e-3)\n",
    "model.set_optimiser(opt)\n",
    "model.to(device)"
   ]
  },
  {
   "cell_type": "code",
   "execution_count": null,
   "metadata": {},
   "outputs": [],
   "source": [
    "n_epochs = 50\n",
    "\n",
    "for epoch in range(n_epochs):\n",
    "    losses = []\n",
    "    accs = []\n",
    "    avg_loss = 0.0\n",
    "    avg_std = 0.0\n",
    "    for i, batch in enumerate(train_dataloader):\n",
    "        images = batch[\"image\"].to(device).float()\n",
    "        masks = batch[\"mask\"].to(device).float()\n",
    "\n",
    "        # Uses MinervaModel.step.\n",
    "        loss, pred = model.step(images, masks, train=True)\n",
    "        losses.append(loss.item())\n",
    "        \n",
    "        accs.append((torch.argmax(pred, 1) == masks).sum().item()) \n",
    "\n",
    "        \n",
    "    print(\n",
    "        f\"Train {epoch}| Loss: {np.mean(losses)}| Accuracy: {np.mean(accs) * 100.0}%\"\n",
    "    )"
   ]
  }
 ],
 "metadata": {
  "kernelspec": {
   "display_name": "",
   "language": "python",
   "name": ""
  },
  "language_info": {
   "codemirror_mode": {
    "name": "ipython",
    "version": 3
   },
   "file_extension": ".py",
   "mimetype": "text/x-python",
   "name": "python",
   "nbconvert_exporter": "python",
   "pygments_lexer": "ipython3",
   "version": "3.11.8"
  }
 },
 "nbformat": 4,
 "nbformat_minor": 2
}
