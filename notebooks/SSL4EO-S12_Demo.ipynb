{
 "cells": [
  {
   "attachments": {},
   "cell_type": "markdown",
   "metadata": {},
   "source": [
    "# Torchgeo FCN Demo\n",
    "\n",
    "This notebook is a small demo of using a small amount of NAIP imagery and Chesapeake Land Cover data to train both `minerva` and `torchvision` FCNs within the `minerva` framework."
   ]
  },
  {
   "attachments": {},
   "cell_type": "markdown",
   "metadata": {},
   "source": [
    "## Imports"
   ]
  },
  {
   "cell_type": "code",
   "execution_count": 1,
   "metadata": {},
   "outputs": [],
   "source": [
    "from pathlib import Path\n",
    "\n",
    "from torch.utils.data import DataLoader\n",
    "import torch.nn as nn\n",
    "from torchgeo.datasets import stack_samples\n",
    "from torchgeo.samplers import RandomGeoSampler\n",
    "from torch.nn import CrossEntropyLoss\n",
    "from torch.optim import Adam\n",
    "import torch\n",
    "import numpy as np\n",
    "import matplotlib.pyplot as plt\n",
    "from rasterio.crs import CRS"
   ]
  },
  {
   "cell_type": "code",
   "execution_count": 2,
   "metadata": {},
   "outputs": [
    {
     "name": "stderr",
     "output_type": "stream",
     "text": [
      "c:\\Users\\hjbak\\miniconda3\\envs\\minerva-311\\Lib\\site-packages\\tqdm\\auto.py:21: TqdmWarning: IProgress not found. Please update jupyter and ipywidgets. See https://ipywidgets.readthedocs.io/en/stable/user_install.html\n",
      "  from .autonotebook import tqdm as notebook_tqdm\n"
     ]
    }
   ],
   "source": [
    "from minerva.models import SimConv\n",
    "from minerva.loss import SegBarlowTwinsLoss\n",
    "from minerva.utils.utils import get_cuda_device\n",
    "from minerva.datasets import SSL4EOS12Sentinel2, PairedDataset, stack_sample_pairs\n",
    "from minerva.samplers import RandomPairGeoSampler\n",
    "\n",
    "device = get_cuda_device(0)"
   ]
  },
  {
   "cell_type": "code",
   "execution_count": 3,
   "metadata": {},
   "outputs": [],
   "source": [
    "EPSG3857 = CRS.from_epsg(\"3857\")"
   ]
  },
  {
   "cell_type": "code",
   "execution_count": 4,
   "metadata": {},
   "outputs": [],
   "source": [
    "root = Path(input()) / \"SSL4EO-S12/100patches/\"\n",
    "\n",
    "train_root = root / \"s2a\"\n",
    "test_root = root / \"s2a\""
   ]
  },
  {
   "cell_type": "code",
   "execution_count": 5,
   "metadata": {},
   "outputs": [],
   "source": [
    "patch_size = (4, 64, 64)"
   ]
  },
  {
   "attachments": {},
   "cell_type": "markdown",
   "metadata": {},
   "source": [
    "## Dataset Definitions"
   ]
  },
  {
   "cell_type": "code",
   "execution_count": 6,
   "metadata": {},
   "outputs": [
    {
     "name": "stdout",
     "output_type": "stream",
     "text": [
      "Making Train Dataset\n",
      "Making Test Dataset\n"
     ]
    }
   ],
   "source": [
    "print(\"Making Train Dataset\")\n",
    "train_dataset = PairedDataset(SSL4EOS12Sentinel2, train_root, res=10.0, crs=EPSG3857, bands=[\"B2\", \"B3\", \"B4\", \"B8\"])\n",
    "\n",
    "print(\"Making Test Dataset\")\n",
    "test_dataset = SSL4EOS12Sentinel2(test_root, res=10.0, crs=EPSG3857)\n"
   ]
  },
  {
   "cell_type": "code",
   "execution_count": 7,
   "metadata": {},
   "outputs": [],
   "source": [
    "sampler = RandomPairGeoSampler(train_dataset, size=patch_size[1], length=20)\n",
    "dataloader = DataLoader(train_dataset, sampler=sampler, collate_fn=stack_sample_pairs, batch_size=6)\n",
    "\n",
    "testsampler = RandomPairGeoSampler(test_dataset, size=patch_size[1], length=8)\n",
    "testdataloader = DataLoader(test_dataset, sampler=testsampler, collate_fn=stack_sample_pairs, batch_size=6, num_workers=1)\n",
    "#testdata = list(testdataloader)[0]"
   ]
  },
  {
   "attachments": {},
   "cell_type": "markdown",
   "metadata": {},
   "source": [
    "## Minerva FCN Example"
   ]
  },
  {
   "cell_type": "code",
   "execution_count": 8,
   "metadata": {},
   "outputs": [
    {
     "name": "stdout",
     "output_type": "stream",
     "text": [
      "0 204.65859603881836\n",
      "1 117.51788902282715\n",
      "2 101.58391761779785\n",
      "3 94.92309761047363\n",
      "4 70.7992000579834\n",
      "5 68.69688034057617\n",
      "6 57.2332878112793\n",
      "7 56.10660171508789\n",
      "8 57.67892837524414\n",
      "9 54.56737995147705\n",
      "10 47.94337558746338\n",
      "11 45.80367374420166\n",
      "12 42.35103225708008\n",
      "13 40.37031173706055\n",
      "14 38.69046401977539\n",
      "15 36.342968463897705\n",
      "16 43.49415636062622\n",
      "17 32.11010503768921\n",
      "18 32.62216091156006\n",
      "19 33.227821350097656\n",
      "20 57.51835346221924\n",
      "21 39.57969045639038\n",
      "22 42.99089336395264\n",
      "23 38.5181770324707\n",
      "24 36.35181522369385\n",
      "25 33.424870014190674\n",
      "26 32.28605318069458\n",
      "27 30.376003742218018\n",
      "28 33.23812532424927\n",
      "29 27.98432493209839\n",
      "30 30.210110187530518\n",
      "31 28.575733184814453\n",
      "32 27.50907564163208\n",
      "33 24.115703105926514\n",
      "34 23.671586513519287\n",
      "35 33.2522406578064\n",
      "36 25.604840755462646\n",
      "37 25.95659351348877\n",
      "38 24.948445796966553\n",
      "39 26.852287769317627\n",
      "40 22.53956365585327\n",
      "41 23.06619930267334\n",
      "42 22.46173620223999\n",
      "43 36.43561315536499\n",
      "44 24.50643014907837\n",
      "45 23.82144069671631\n",
      "46 22.48682403564453\n",
      "47 27.15037775039673\n",
      "48 27.401942253112793\n",
      "49 27.759209156036377\n",
      "50 23.921086311340332\n",
      "51 21.843944549560547\n",
      "52 20.267704010009766\n",
      "53 19.735970973968506\n",
      "54 19.22929048538208\n",
      "55 17.950239658355713\n",
      "56 18.91469955444336\n",
      "57 17.671124696731567\n",
      "58 16.64648461341858\n",
      "59 17.170767545700073\n",
      "60 17.53976845741272\n",
      "61 16.220185041427612\n",
      "62 15.484647989273071\n",
      "63 15.793884038925171\n",
      "64 15.279129266738892\n",
      "65 15.201881885528564\n",
      "66 14.129679203033447\n",
      "67 14.288763999938965\n",
      "68 17.03618049621582\n",
      "69 15.491488218307495\n",
      "70 16.357168912887573\n",
      "71 15.183631896972656\n",
      "72 14.981591939926147\n",
      "73 15.322601318359375\n",
      "74 28.670093059539795\n",
      "75 22.910824298858643\n",
      "76 23.500583171844482\n",
      "77 22.18486976623535\n",
      "78 38.82653760910034\n",
      "79 32.824448108673096\n",
      "80 32.03211545944214\n",
      "81 28.84272575378418\n",
      "82 27.01112937927246\n",
      "83 27.13194990158081\n",
      "84 23.21124792098999\n",
      "85 22.157244205474854\n",
      "86 20.52736186981201\n",
      "87 19.29672908782959\n",
      "88 23.008675575256348\n",
      "89 18.640074253082275\n",
      "90 18.54694366455078\n",
      "91 17.5823016166687\n",
      "92 17.11873960494995\n",
      "93 17.392317533493042\n",
      "94 18.17785096168518\n",
      "95 16.27882194519043\n",
      "96 15.703738451004028\n",
      "97 15.009372472763062\n",
      "98 13.732038021087646\n",
      "99 13.137885332107544\n",
      "100 15.104402542114258\n"
     ]
    }
   ],
   "source": [
    "crit = SegBarlowTwinsLoss()\n",
    "\n",
    "# Criterions are normally parsed to models at init in minerva.\n",
    "model = SimConv(crit, input_size=patch_size).to(device)\n",
    "opt = Adam(model.parameters(), lr=1e-3)\n",
    "\n",
    "# Optimisers need to be set to a model in minerva before training.\n",
    "model.set_optimiser(opt)\n",
    "\n",
    "for epoch in range(101):\n",
    "  losses = []\n",
    "  for i, batch in enumerate(dataloader):\n",
    "    x_i_batch, x_j_batch = batch[0][\"image\"].to(device).float() / 255.0, batch[1][\"image\"].to(device).float() / 255.0\n",
    "    \n",
    "    x_batch = torch.stack([x_i_batch, x_j_batch])\n",
    "    \n",
    "    # Uses MinervaModel.step.\n",
    "    loss, pred = model.step(x_batch, train=True)\n",
    "    losses.append(loss.item())\n",
    "\n",
    "  print(epoch, np.mean(losses))\n",
    "  #if epoch % 10 == 0:\n",
    "  #  with torch.no_grad():\n",
    "  #    image = testdata[\"image\"].to(device).float() / 255.0\n",
    "  #    pred = model(image)\n",
    "\n",
    "  #    fig, axs = plt.subplots(2, pred.shape[0], figsize=(10,4))\n",
    "  #    for i in range(pred.shape[0]):\n",
    "  #      axs[0,i].imshow(image[i].cpu().numpy()[:3].transpose(1,2,0))\n",
    "  #      axs[2,i].imshow(pred[i].detach().argmax(dim=0).cpu().numpy(), cmap=\"Set3\", vmin=0, vmax=12)\n",
    "  #    plt.setp(plt.gcf().get_axes(), xticks=[], yticks=[])\n",
    "  #    plt.show()"
   ]
  },
  {
   "attachments": {},
   "cell_type": "markdown",
   "metadata": {},
   "source": [
    "## Torchvision FCN Example"
   ]
  },
  {
   "cell_type": "code",
   "execution_count": 9,
   "metadata": {},
   "outputs": [
    {
     "ename": "NameError",
     "evalue": "name 'fcn_resnet50' is not defined",
     "output_type": "error",
     "traceback": [
      "\u001b[1;31m---------------------------------------------------------------------------\u001b[0m",
      "\u001b[1;31mNameError\u001b[0m                                 Traceback (most recent call last)",
      "Cell \u001b[1;32mIn[9], line 1\u001b[0m\n\u001b[1;32m----> 1\u001b[0m fcn \u001b[39m=\u001b[39m fcn_resnet50(num_classes\u001b[39m=\u001b[39m\u001b[39m13\u001b[39m)\u001b[39m.\u001b[39mto(device)\n\u001b[0;32m      2\u001b[0m fcn\u001b[39m.\u001b[39mbackbone\u001b[39m.\u001b[39mconv1 \u001b[39m=\u001b[39m nn\u001b[39m.\u001b[39mConv2d(\u001b[39m4\u001b[39m, \u001b[39m64\u001b[39m, kernel_size\u001b[39m=\u001b[39m(\u001b[39m7\u001b[39m, \u001b[39m7\u001b[39m), stride\u001b[39m=\u001b[39m(\u001b[39m2\u001b[39m, \u001b[39m2\u001b[39m), padding\u001b[39m=\u001b[39m(\u001b[39m3\u001b[39m, \u001b[39m3\u001b[39m), bias\u001b[39m=\u001b[39m\u001b[39mFalse\u001b[39;00m)\u001b[39m.\u001b[39mto(device)\n\u001b[0;32m      4\u001b[0m crit \u001b[39m=\u001b[39m CrossEntropyLoss()\n",
      "\u001b[1;31mNameError\u001b[0m: name 'fcn_resnet50' is not defined"
     ]
    }
   ],
   "source": [
    "fcn = fcn_resnet50(num_classes=13).to(device)\n",
    "fcn.backbone.conv1 = nn.Conv2d(4, 64, kernel_size=(7, 7), stride=(2, 2), padding=(3, 3), bias=False).to(device)\n",
    "\n",
    "crit = CrossEntropyLoss()\n",
    "opt = Adam(fcn.parameters(), lr=1e-3)\n",
    "\n",
    "for epoch in range(101):\n",
    "  losses = []\n",
    "  for i, sample in enumerate(dataloader):\n",
    "    image = sample[\"image\"].to(device).float() / 255.0\n",
    "    target = sample[\"mask\"].to(device).long().squeeze(1)\n",
    "\n",
    "    opt.zero_grad()\n",
    "    pred = fcn(image)[\"out\"]\n",
    "    loss = crit(pred, target)\n",
    "    loss.backward()\n",
    "    opt.step()\n",
    "    losses.append(loss.item())\n",
    "\n",
    "  print(epoch, np.mean(losses))\n",
    "  if epoch % 10 == 0:\n",
    "    with torch.no_grad():\n",
    "      image = testdata[\"image\"].to(device).float() / 255.0\n",
    "      target = testdata[\"mask\"].to(device).long().squeeze(1)\n",
    "      pred = fcn(image)[\"out\"]\n",
    "\n",
    "      fig, axs = plt.subplots(3, pred.shape[0], figsize=(10,4))\n",
    "      for i in range(pred.shape[0]):\n",
    "        axs[0,i].imshow(image[i].cpu().numpy()[:3].transpose(1,2,0))\n",
    "        axs[1,i].imshow(target[i].cpu().numpy(), cmap=\"Set3\", vmin=0, vmax=12)\n",
    "        axs[2,i].imshow(pred[i].detach().argmax(dim=0).cpu().numpy(), cmap=\"Set3\", vmin=0, vmax=12)\n",
    "      plt.setp(plt.gcf().get_axes(), xticks=[], yticks=[])\n",
    "      plt.show()"
   ]
  }
 ],
 "metadata": {
  "kernelspec": {
   "display_name": "Python 3",
   "language": "python",
   "name": "python3"
  },
  "language_info": {
   "codemirror_mode": {
    "name": "ipython",
    "version": 3
   },
   "file_extension": ".py",
   "mimetype": "text/x-python",
   "name": "python",
   "nbconvert_exporter": "python",
   "pygments_lexer": "ipython3",
   "version": "3.11.3"
  },
  "orig_nbformat": 4
 },
 "nbformat": 4,
 "nbformat_minor": 2
}
