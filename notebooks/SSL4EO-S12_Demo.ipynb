{
 "cells": [
  {
   "attachments": {},
   "cell_type": "markdown",
   "metadata": {},
   "source": [
    "# SSL4EO-S12 SimConvNet Demo\n",
    "\n",
    "This notebook is a small demo of using a small amount of SSL4EO-S12 and NAIP imagery with Chesapeake Land Cover data to train a `minerva` `SimConv` model."
   ]
  },
  {
   "attachments": {},
   "cell_type": "markdown",
   "metadata": {},
   "source": [
    "## Imports"
   ]
  },
  {
   "cell_type": "code",
   "execution_count": null,
   "metadata": {},
   "outputs": [],
   "source": [
    "from pathlib import Path\n",
    "\n",
    "from torch.utils.data import DataLoader\n",
    "from torchgeo.datasets import NAIP, Chesapeake13, stack_samples\n",
    "from torchgeo.samplers import RandomGeoSampler\n",
    "from torch.nn import CrossEntropyLoss\n",
    "from torch.optim import Adam\n",
    "import torch\n",
    "import numpy as np\n",
    "import matplotlib.pyplot as plt\n",
    "from rasterio.crs import CRS\n",
    "from segmentation_models_pytorch import PSPNet"
   ]
  },
  {
   "cell_type": "code",
   "execution_count": null,
   "metadata": {},
   "outputs": [],
   "source": [
    "from minerva.models import SimConv, MinervaWrapper\n",
    "from minerva.loss import SegBarlowTwinsLoss\n",
    "from minerva.utils.utils import get_cuda_device\n",
    "from minerva.datasets import SSL4EOS12Sentinel2, PairedDataset, stack_sample_pairs, make_transformations\n",
    "from minerva.samplers import RandomPairGeoSampler\n",
    "from minerva.transforms import MinervaCompose, AutoNorm\n",
    "\n",
    "device = get_cuda_device(0)"
   ]
  },
  {
   "cell_type": "code",
   "execution_count": null,
   "metadata": {},
   "outputs": [],
   "source": [
    "# CRS in meters not decimal lat-lon degrees.\n",
    "EPSG3857 = CRS.from_epsg(\"3857\")"
   ]
  },
  {
   "cell_type": "code",
   "execution_count": null,
   "metadata": {},
   "outputs": [],
   "source": [
    "root = Path(input(\"Path to the root directory containing all the data\"))\n",
    "\n",
    "train_root = root / \"SSL4EO-S12/100patches/s2a\"\n",
    "test_image_root = root / \"NAIP_2013/Test\"\n",
    "test_mask_root = root / \"Chesapeake13\""
   ]
  },
  {
   "cell_type": "code",
   "execution_count": null,
   "metadata": {},
   "outputs": [],
   "source": [
    "patch_size = (4, 128, 128)"
   ]
  },
  {
   "cell_type": "markdown",
   "metadata": {},
   "source": [
    "## Transform Definitions"
   ]
  },
  {
   "cell_type": "code",
   "execution_count": null,
   "metadata": {},
   "outputs": [],
   "source": [
    "transform_params = {\n",
    "    \"RandomApply\": {\n",
    "        \"p\": 0.8,\n",
    "        \"RandomResizedCrop\": {\n",
    "            \"module\": \"torchvision.transforms\",\n",
    "            \"size\": patch_size[1:],\n",
    "        },\n",
    "        \"DetachedColorJitter\": {\n",
    "            \"module\": \"minerva.transforms\",\n",
    "            \"brightness\": 0.8,\n",
    "            \"contrast\": 0.8,\n",
    "            \"saturation\": 0.8,\n",
    "            \"hue\": 0.2,\n",
    "        },\n",
    "        \"RandomHorizontalFlip\": {\n",
    "            \"module\": \"torchvision.transforms\",\n",
    "        },\n",
    "        \"RandomVerticalFlip\": {\n",
    "            \"module\": \"torchvision.transforms\",\n",
    "        },\n",
    "        \"GaussianBlur\": {\n",
    "            \"module\": \"torchvision.transforms\",\n",
    "            \"kernel_size\": 25,\n",
    "        },\n",
    "    },\n",
    "}\n",
    "transforms = make_transformations(transform_params, key=\"image\")\n",
    "sentinel_norm = AutoNorm(SSL4EOS12Sentinel2(train_root, res=10.0, crs=EPSG3857, bands=[\"B2\", \"B3\", \"B4\", \"B8\"]))\n",
    "transforms.transforms.append(sentinel_norm)\n",
    "\n",
    "naip_normalise = MinervaCompose(AutoNorm(NAIP(test_image_root, res=1.0)), \"image\")"
   ]
  },
  {
   "attachments": {},
   "cell_type": "markdown",
   "metadata": {},
   "source": [
    "## Dataset Definitions"
   ]
  },
  {
   "cell_type": "code",
   "execution_count": null,
   "metadata": {},
   "outputs": [],
   "source": [
    "print(\"Making Train Dataset\")\n",
    "train_dataset = PairedDataset(SSL4EOS12Sentinel2, train_root, res=10.0, crs=EPSG3857, bands=[\"B2\", \"B3\", \"B4\", \"B8\"], transforms=transforms)\n",
    "\n",
    "print(\"Making Test Dataset\")\n",
    "test_image_dataset = NAIP(test_image_root, res=1.0, transforms=naip_normalise)\n",
    "test_mask_dataset = Chesapeake13(test_mask_root, res=1.0)\n",
    "test_dataset = test_image_dataset & test_mask_dataset"
   ]
  },
  {
   "cell_type": "code",
   "execution_count": null,
   "metadata": {},
   "outputs": [],
   "source": [
    "sampler = RandomPairGeoSampler(train_dataset, size=patch_size[1], length=256, max_r=128)\n",
    "dataloader = DataLoader(train_dataset, sampler=sampler, collate_fn=stack_sample_pairs, batch_size=16, num_workers=2)\n",
    "\n",
    "testsampler = RandomGeoSampler(test_dataset, size=patch_size[1], length=128)\n",
    "testdataloader = DataLoader(test_dataset, sampler=testsampler, collate_fn=stack_samples, batch_size=8, num_workers=1)\n",
    "testdata = list(testdataloader)[0]"
   ]
  },
  {
   "attachments": {},
   "cell_type": "markdown",
   "metadata": {},
   "source": [
    "## Training & Validation Loop"
   ]
  },
  {
   "cell_type": "code",
   "execution_count": null,
   "metadata": {},
   "outputs": [],
   "source": [
    "n_epochs = 1000  # Number of epoches to conduct.\n",
    "f_val = 25       # Frequency of downstream validation in number of training epoches.\n",
    "\n",
    "# Loss functions for the SimConvNet and the downstream PSPNet.\n",
    "crit = SegBarlowTwinsLoss()\n",
    "xentropy = CrossEntropyLoss()\n",
    "\n",
    "# Criterions are normally parsed to models at init in minerva.\n",
    "model = SimConv(crit, input_size=patch_size).to(device)\n",
    "opt = Adam(model.parameters(), lr=1e-3)\n",
    "\n",
    "# Optimisers need to be set to a model in minerva before training.\n",
    "model.set_optimiser(opt)\n",
    "\n",
    "for epoch in range(n_epochs):\n",
    "  losses = []\n",
    "  for i, batch in enumerate(dataloader):\n",
    "    x_i_batch, x_j_batch = batch[0][\"image\"].to(device).float(), batch[1][\"image\"].to(device).float()\n",
    "\n",
    "    x_batch = torch.stack([x_i_batch, x_j_batch])\n",
    "    \n",
    "    # Uses MinervaModel.step.\n",
    "    loss, pred = model.step(x_batch, train=True)\n",
    "    losses.append(loss.item())\n",
    "\n",
    "  print(epoch, np.mean(losses))\n",
    "  \n",
    "  if epoch % f_val == 0:\n",
    "      # Extract encoder from the model and freeze its weights.\n",
    "      encoder = model.backbone\n",
    "      encoder = encoder.requires_grad_(False)\n",
    "      \n",
    "      # Construct a new PSPNet.\n",
    "      psp = MinervaWrapper(PSPNet, input_size=patch_size, criterion=xentropy, n_classes=13, encoder_name=\"resnet18\", classes=13, in_channels=4).to(device)\n",
    "\n",
    "      # Replace its encoder and decoder with our pre-trained encoder (which is a PSP encoder-decoder).\n",
    "      psp.encoder = encoder.encoder\n",
    "      psp.decoder = encoder.decoder\n",
    "\n",
    "      # Set up the optimiser for the PSP.\n",
    "      psp_opt = Adam(psp.parameters(), lr=0.01)\n",
    "      psp.set_optimiser(psp_opt)\n",
    "      \n",
    "      opt_losses = []\n",
    "      \n",
    "      # Train downstream PSP.\n",
    "      for sample in testdataloader:\n",
    "        x = sample[\"image\"].to(device).float()\n",
    "        y = sample[\"mask\"].to(device).long().squeeze(1)\n",
    "        \n",
    "        opt_loss, z = psp.step(x, y, train=True)\n",
    "        opt_losses.append(opt_loss.item())\n",
    "      \n",
    "      # Use the pre-selected batch of data for visualisation of the PSP's results.\n",
    "      image = testdata[\"image\"].to(device).float()\n",
    "      target = testdata[\"mask\"].to(device).long().squeeze(1)\n",
    "      final_loss, pred = psp.step(image, target, train=False)\n",
    "      opt_losses.append(final_loss.item())\n",
    "      \n",
    "      print(f\"Test {epoch}| Loss: {np.mean(opt_losses)}\")\n",
    "\n",
    "      fig, axs = plt.subplots(3, pred.shape[0], figsize=(10,4))\n",
    "      for i in range(pred.shape[0]):\n",
    "        axs[0,i].imshow(image[i].cpu().numpy()[:3].transpose(1,2,0))\n",
    "        axs[1,i].imshow(target[i].cpu().numpy(), cmap=\"Set3\", vmin=0, vmax=12)\n",
    "        axs[2,i].imshow(pred[i].detach().argmax(dim=0).cpu().numpy(), cmap=\"Set3\", vmin=0, vmax=12)\n",
    "      plt.setp(plt.gcf().get_axes(), xticks=[], yticks=[])\n",
    "      plt.show()"
   ]
  }
 ],
 "metadata": {
  "kernelspec": {
   "display_name": "",
   "language": "python",
   "name": ""
  },
  "language_info": {
   "codemirror_mode": {
    "name": "ipython",
    "version": 3
   },
   "file_extension": ".py",
   "mimetype": "text/x-python",
   "name": "python",
   "nbconvert_exporter": "python",
   "pygments_lexer": "ipython3",
   "version": "3.11.3"
  },
  "orig_nbformat": 4
 },
 "nbformat": 4,
 "nbformat_minor": 2
}
