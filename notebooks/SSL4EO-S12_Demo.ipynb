{
 "cells": [
  {
   "attachments": {},
   "cell_type": "markdown",
   "metadata": {},
   "source": [
    "# Torchgeo FCN Demo\n",
    "\n",
    "This notebook is a small demo of using a small amount of NAIP imagery and Chesapeake Land Cover data to train both `minerva` and `torchvision` FCNs within the `minerva` framework."
   ]
  },
  {
   "attachments": {},
   "cell_type": "markdown",
   "metadata": {},
   "source": [
    "## Imports"
   ]
  },
  {
   "cell_type": "code",
   "execution_count": null,
   "metadata": {},
   "outputs": [],
   "source": [
    "from pathlib import Path\n",
    "\n",
    "from torch.utils.data import DataLoader\n",
    "import torch.nn as nn\n",
    "from torchgeo.datasets import stack_samples\n",
    "from torchgeo.samplers import RandomGeoSampler\n",
    "from torch.nn import CrossEntropyLoss\n",
    "from torch.optim import Adam\n",
    "import torch\n",
    "import numpy as np\n",
    "import matplotlib.pyplot as plt"
   ]
  },
  {
   "cell_type": "code",
   "execution_count": null,
   "metadata": {},
   "outputs": [],
   "source": [
    "from minerva.models import SimConv\n",
    "from minerva.loss import SegBarlowTwinsLoss\n",
    "from minerva.utils.utils import get_cuda_device\n",
    "from minerva.datasets import SSL4EOS12Sentinel2\n",
    "\n",
    "device = get_cuda_device(0)"
   ]
  },
  {
   "cell_type": "code",
   "execution_count": null,
   "metadata": {},
   "outputs": [],
   "source": [
    "root = Path(input()) / \"SSL4EO-S12/ssl4eo-s12/\"\n",
    "\n",
    "train_root = root / \"s2a\"\n",
    "test_root = root / \"s2a\""
   ]
  },
  {
   "attachments": {},
   "cell_type": "markdown",
   "metadata": {},
   "source": [
    "## Dataset Definitions"
   ]
  },
  {
   "cell_type": "code",
   "execution_count": null,
   "metadata": {},
   "outputs": [],
   "source": [
    "train_dataset = SSL4EOS12Sentinel2(train_root)\n",
    "test_dataset = SSL4EOS12Sentinel2(test_root)\n",
    "\n",
    "sampler = RandomGeoSampler(train_dataset, size=256, length=200)\n",
    "dataloader = DataLoader(train_dataset, sampler=sampler, collate_fn=stack_samples, batch_size=32)\n",
    "\n",
    "testsampler = RandomGeoSampler(test_dataset, size=256, length=8)\n",
    "testdataloader = DataLoader(test_dataset, sampler=testsampler, collate_fn=stack_samples, batch_size=8, num_workers=4)\n",
    "testdata = list(testdataloader)[0]"
   ]
  },
  {
   "attachments": {},
   "cell_type": "markdown",
   "metadata": {},
   "source": [
    "## Minerva FCN Example"
   ]
  },
  {
   "cell_type": "code",
   "execution_count": null,
   "metadata": {},
   "outputs": [],
   "source": [
    "crit = SegBarlowTwinsLoss()\n",
    "\n",
    "# Criterions are normally parsed to models at init in minerva.\n",
    "model = SimConv(crit, input_size=(4, 256, 256), n_classes=13).to(device)\n",
    "opt = Adam(model.parameters(), lr=1e-3)\n",
    "\n",
    "# Optimisers need to be set to a model in minerva before training.\n",
    "model.set_optimiser(opt)\n",
    "\n",
    "for epoch in range(101):\n",
    "  losses = []\n",
    "  for i, sample in enumerate(dataloader):\n",
    "    image = sample[\"image\"].to(device).float() / 255.0\n",
    "    \n",
    "    # Uses MinervaModel.step.\n",
    "    loss, pred = model.step(image, target, train=True)\n",
    "    losses.append(loss.item())\n",
    "\n",
    "  print(epoch, np.mean(losses))\n",
    "  if epoch % 10 == 0:\n",
    "    with torch.no_grad():\n",
    "      image = testdata[\"image\"].to(device).float() / 255.0\n",
    "      pred = model(image)\n",
    "\n",
    "      fig, axs = plt.subplots(2, pred.shape[0], figsize=(10,4))\n",
    "      for i in range(pred.shape[0]):\n",
    "        axs[0,i].imshow(image[i].cpu().numpy()[:3].transpose(1,2,0))\n",
    "        axs[2,i].imshow(pred[i].detach().argmax(dim=0).cpu().numpy(), cmap=\"Set3\", vmin=0, vmax=12)\n",
    "      plt.setp(plt.gcf().get_axes(), xticks=[], yticks=[])\n",
    "      plt.show()"
   ]
  },
  {
   "attachments": {},
   "cell_type": "markdown",
   "metadata": {},
   "source": [
    "## Torchvision FCN Example"
   ]
  },
  {
   "cell_type": "code",
   "execution_count": null,
   "metadata": {},
   "outputs": [],
   "source": [
    "fcn = fcn_resnet50(num_classes=13).to(device)\n",
    "fcn.backbone.conv1 = nn.Conv2d(4, 64, kernel_size=(7, 7), stride=(2, 2), padding=(3, 3), bias=False).to(device)\n",
    "\n",
    "crit = CrossEntropyLoss()\n",
    "opt = Adam(fcn.parameters(), lr=1e-3)\n",
    "\n",
    "for epoch in range(101):\n",
    "  losses = []\n",
    "  for i, sample in enumerate(dataloader):\n",
    "    image = sample[\"image\"].to(device).float() / 255.0\n",
    "    target = sample[\"mask\"].to(device).long().squeeze(1)\n",
    "\n",
    "    opt.zero_grad()\n",
    "    pred = fcn(image)[\"out\"]\n",
    "    loss = crit(pred, target)\n",
    "    loss.backward()\n",
    "    opt.step()\n",
    "    losses.append(loss.item())\n",
    "\n",
    "  print(epoch, np.mean(losses))\n",
    "  if epoch % 10 == 0:\n",
    "    with torch.no_grad():\n",
    "      image = testdata[\"image\"].to(device).float() / 255.0\n",
    "      target = testdata[\"mask\"].to(device).long().squeeze(1)\n",
    "      pred = fcn(image)[\"out\"]\n",
    "\n",
    "      fig, axs = plt.subplots(3, pred.shape[0], figsize=(10,4))\n",
    "      for i in range(pred.shape[0]):\n",
    "        axs[0,i].imshow(image[i].cpu().numpy()[:3].transpose(1,2,0))\n",
    "        axs[1,i].imshow(target[i].cpu().numpy(), cmap=\"Set3\", vmin=0, vmax=12)\n",
    "        axs[2,i].imshow(pred[i].detach().argmax(dim=0).cpu().numpy(), cmap=\"Set3\", vmin=0, vmax=12)\n",
    "      plt.setp(plt.gcf().get_axes(), xticks=[], yticks=[])\n",
    "      plt.show()"
   ]
  }
 ],
 "metadata": {
  "kernelspec": {
   "display_name": "",
   "language": "python",
   "name": ""
  },
  "language_info": {
   "codemirror_mode": {
    "name": "ipython",
    "version": 3
   },
   "file_extension": ".py",
   "mimetype": "text/x-python",
   "name": "python",
   "nbconvert_exporter": "python",
   "pygments_lexer": "ipython3",
   "version": "3.11.3 (main, Apr 19 2023, 23:54:32) [GCC 11.2.0]"
  },
  "orig_nbformat": 4,
  "vscode": {
   "interpreter": {
    "hash": "fae44451358f0f0f5591c30854cb42e19b980b6a638461b824220c268558cf46"
   }
  }
 },
 "nbformat": 4,
 "nbformat_minor": 2
}
