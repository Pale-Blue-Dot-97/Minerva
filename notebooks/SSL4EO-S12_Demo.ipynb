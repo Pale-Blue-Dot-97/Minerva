{
 "cells": [
  {
   "attachments": {},
   "cell_type": "markdown",
   "metadata": {},
   "source": [
    "# Torchgeo FCN Demo\n",
    "\n",
    "This notebook is a small demo of using a small amount of NAIP imagery and Chesapeake Land Cover data to train both `minerva` and `torchvision` FCNs within the `minerva` framework."
   ]
  },
  {
   "attachments": {},
   "cell_type": "markdown",
   "metadata": {},
   "source": [
    "## Imports"
   ]
  },
  {
   "cell_type": "code",
   "execution_count": null,
   "metadata": {},
   "outputs": [],
   "source": [
    "from pathlib import Path\n",
    "\n",
    "from torch.utils.data import DataLoader\n",
    "import torch.nn as nn\n",
    "from torchgeo.datasets import NAIP, Chesapeake13, stack_samples\n",
    "from torchgeo.samplers import RandomGeoSampler\n",
    "from torch.nn import CrossEntropyLoss\n",
    "from torch.optim import Adam\n",
    "import torch\n",
    "import numpy as np\n",
    "import matplotlib.pyplot as plt\n",
    "from rasterio.crs import CRS"
   ]
  },
  {
   "cell_type": "code",
   "execution_count": null,
   "metadata": {},
   "outputs": [],
   "source": [
    "from minerva.models import SimConv\n",
    "from minerva.loss import SegBarlowTwinsLoss\n",
    "from minerva.utils.utils import get_cuda_device\n",
    "from minerva.datasets import SSL4EOS12Sentinel2, PairedDataset, stack_sample_pairs\n",
    "from minerva.samplers import RandomPairGeoSampler\n",
    "\n",
    "device = get_cuda_device(0)"
   ]
  },
  {
   "cell_type": "code",
   "execution_count": null,
   "metadata": {},
   "outputs": [],
   "source": [
    "EPSG3857 = CRS.from_epsg(\"3857\")"
   ]
  },
  {
   "cell_type": "code",
   "execution_count": null,
   "metadata": {},
   "outputs": [],
   "source": [
    "root = Path(input())\n",
    "\n",
    "train_root = root / \"SSL4EO-S12/100patches/s2a\"\n",
    "test_image_root = root / \"NAIP/NAIP 2013/Test\"\n",
    "test_mask_root = root / \"Chesapeake13\""
   ]
  },
  {
   "cell_type": "code",
   "execution_count": null,
   "metadata": {},
   "outputs": [],
   "source": [
    "patch_size = (4, 64, 64)"
   ]
  },
  {
   "attachments": {},
   "cell_type": "markdown",
   "metadata": {},
   "source": [
    "## Dataset Definitions"
   ]
  },
  {
   "cell_type": "code",
   "execution_count": null,
   "metadata": {},
   "outputs": [],
   "source": [
    "print(\"Making Train Dataset\")\n",
    "train_dataset = PairedDataset(SSL4EOS12Sentinel2, train_root, res=10.0, crs=EPSG3857, bands=[\"B2\", \"B3\", \"B4\", \"B8\"])\n",
    "\n",
    "print(\"Making Test Dataset\")\n",
    "test_image_dataset = NAIP(test_image_root, res=1.0)\n",
    "test_mask_dataset = Chesapeake13(test_mask_root, res=1.0)\n",
    "test_dataset = test_image_dataset & test_mask_dataset"
   ]
  },
  {
   "cell_type": "code",
   "execution_count": null,
   "metadata": {},
   "outputs": [],
   "source": [
    "sampler = RandomPairGeoSampler(train_dataset, size=patch_size[1], length=20)\n",
    "dataloader = DataLoader(train_dataset, sampler=sampler, collate_fn=stack_sample_pairs, batch_size=6)\n",
    "\n",
    "testsampler = RandomGeoSampler(test_dataset, size=patch_size[1], length=8)\n",
    "testdataloader = DataLoader(test_dataset, sampler=testsampler, collate_fn=stack_samples, batch_size=6, num_workers=1)\n",
    "testdata = list(testdataloader)[0]"
   ]
  },
  {
   "attachments": {},
   "cell_type": "markdown",
   "metadata": {},
   "source": [
    "## Training & Validation Loop"
   ]
  },
  {
   "cell_type": "code",
   "execution_count": null,
   "metadata": {},
   "outputs": [],
   "source": [
    "crit = SegBarlowTwinsLoss()\n",
    "\n",
    "# Criterions are normally parsed to models at init in minerva.\n",
    "model = SimConv(crit, input_size=patch_size).to(device)\n",
    "opt = Adam(model.parameters(), lr=1e-3)\n",
    "\n",
    "# Optimisers need to be set to a model in minerva before training.\n",
    "model.set_optimiser(opt)\n",
    "\n",
    "for epoch in range(101):\n",
    "  losses = []\n",
    "  for i, batch in enumerate(dataloader):\n",
    "    x_i_batch, x_j_batch = batch[0][\"image\"].to(device).float() / 255.0, batch[1][\"image\"].to(device).float() / 255.0\n",
    "\n",
    "    x_batch = torch.stack([x_i_batch, x_j_batch])\n",
    "\n",
    "    # Uses MinervaModel.step.\n",
    "    loss, pred = model.step(x_batch, train=True)\n",
    "    losses.append(loss.item())\n",
    "\n",
    "  print(epoch, np.mean(losses))\n",
    "  if epoch % 10 == 0:\n",
    "    with torch.no_grad():\n",
    "      encoder = model.backbone\n",
    "      image = testdata[\"image\"].to(device).float() / 255.0\n",
    "      target = testdata[\"mask\"].to(device).long().squeeze(1)\n",
    "      pred = encoder(image)\n",
    "\n",
    "      fig, axs = plt.subplots(3, pred.shape[0], figsize=(10,4))\n",
    "      for i in range(pred.shape[0]):\n",
    "        axs[0,i].imshow(image[i].cpu().numpy()[:3].transpose(1,2,0))\n",
    "        axs[1,i].imshow(target[i].cpu().numpy(), cmap=\"Set3\", vmin=0, vmax=12)\n",
    "        axs[2,i].imshow(pred[i].detach().argmax(dim=0).cpu().numpy(), cmap=\"Set3\", vmin=0, vmax=12)\n",
    "      plt.setp(plt.gcf().get_axes(), xticks=[], yticks=[])\n",
    "      plt.show()"
   ]
  }
 ],
 "metadata": {
  "kernelspec": {
   "display_name": "",
   "language": "python",
   "name": ""
  },
  "language_info": {
   "codemirror_mode": {
    "name": "ipython",
    "version": 3
   },
   "file_extension": ".py",
   "mimetype": "text/x-python",
   "name": "python",
   "nbconvert_exporter": "python",
   "pygments_lexer": "ipython3",
   "version": "3.11.3"
  },
  "orig_nbformat": 4
 },
 "nbformat": 4,
 "nbformat_minor": 2
}
