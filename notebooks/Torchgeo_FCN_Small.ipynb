{
 "cells": [
  {
   "attachments": {},
   "cell_type": "markdown",
   "metadata": {},
   "source": [
    "# Torchgeo FCN Small Example\n",
    "\n",
    "This notebook gives examples of using both `minerva` FCN models and `torchvision` FCN models trained on a small amount of dataa from the `ChesapeakeCVPR` dataset compiled by `torchgeo` and using the `minerva` framework.\n",
    "\n",
    "Note: This notebook will not be compatible with the free use of Google Colab as even though a small amount of the Chesapeake dataset is used, the entire dataset must still be downloaded to use it. This is **>200GB**! The maximum disk space for free accounts is **100GB**. "
   ]
  },
  {
   "cell_type": "code",
   "execution_count": null,
   "metadata": {},
   "outputs": [],
   "source": [
    "from pathlib import Path\n",
    "\n",
    "from torch.utils.data import DataLoader\n",
    "from torchvision.models.segmentation import fcn_resnet50\n",
    "import torch.nn as nn\n",
    "from torchgeo.datasets import ChesapeakeCVPR, stack_samples\n",
    "from torchgeo.samplers import RandomGeoSampler\n",
    "from torch.nn import CrossEntropyLoss\n",
    "from torch.optim import Adam\n",
    "import torch\n",
    "import numpy as np\n",
    "import matplotlib.pyplot as plt"
   ]
  },
  {
   "cell_type": "code",
   "execution_count": null,
   "metadata": {},
   "outputs": [],
   "source": [
    "from minerva.models import FCN8ResNet18\n",
    "from minerva.utils.utils import get_cuda_device\n",
    "\n",
    "device = get_cuda_device(0)"
   ]
  },
  {
   "cell_type": "code",
   "execution_count": null,
   "metadata": {},
   "outputs": [],
   "source": [
    "data_root = Path(\"data\")\n",
    "train_root = data_root / \"train\"\n",
    "test_root = data_root / \"test\""
   ]
  },
  {
   "attachments": {},
   "cell_type": "markdown",
   "metadata": {},
   "source": [
    "## Datasets\n",
    "\n",
    "Now to download the data and create the train and test datasets.\n",
    "\n",
    "**Warning**: This will **download the entire** Chesapeake dataset if it is not found within either `train_root` or `test_root`. This is a about **200GB** of data! Recommend that you set `data_root` to somewhere you are happy to store this much data on your system."
   ]
  },
  {
   "cell_type": "code",
   "execution_count": null,
   "metadata": {},
   "outputs": [],
   "source": [
    "train_dataset = ChesapeakeCVPR(str(train_root), splits=[\"de-train\", \"ny-train\", \"wv-train\"], layers=[\"naip-new\", \"naip-old\", \"lc\"], download=True)\n",
    "test_dataset = ChesapeakeCVPR(str(test_root), splits=[\"md-test\", \"va-test\"], layers=[\"naip-new\", \"naip-old\", \"lc\"], download=True)\n",
    "\n",
    "sampler = RandomGeoSampler(train_dataset, size=256, length=200)\n",
    "dataloader = DataLoader(train_dataset, sampler=sampler, collate_fn=stack_samples, batch_size=32)\n",
    "\n",
    "testsampler = RandomGeoSampler(test_dataset, size=256, length=8)\n",
    "testdataloader = DataLoader(test_dataset, sampler=testsampler, collate_fn=stack_samples, batch_size=8, num_workers=4)\n",
    "testdata = list(testdataloader)[0]"
   ]
  },
  {
   "cell_type": "code",
   "execution_count": null,
   "metadata": {},
   "outputs": [],
   "source": [
    "crit = CrossEntropyLoss()\n",
    "\n",
    "# Criterions are normally parsed to models at init in minerva.\n",
    "fcn = FCN8ResNet18(crit, input_size=(4, 256, 256), n_classes=13).to(device)\n",
    "opt = Adam(fcn.parameters(), lr=1e-3)\n",
    "\n",
    "# Optimisers need to be set to a model in minerva before training.\n",
    "fcn.set_optimiser(opt)\n",
    "\n",
    "for epoch in range(101):\n",
    "  losses = []\n",
    "  for i, sample in enumerate(dataloader):\n",
    "    image = sample[\"image\"].to(device).float() / 255.0\n",
    "    target = sample[\"mask\"].to(device).long().squeeze(1)\n",
    "    \n",
    "    # Uses MinervaModel.step.\n",
    "    loss, pred = fcn.step(image, target, train=True)\n",
    "    losses.append(loss.item())\n",
    "\n",
    "  print(epoch, np.mean(losses))\n",
    "  if epoch % 10 == 0:\n",
    "    with torch.no_grad():\n",
    "      image = testdata[\"image\"].to(device).float() / 255.0\n",
    "      target = testdata[\"mask\"].to(device).long().squeeze(1)\n",
    "      pred = fcn(image)\n",
    "\n",
    "      fig, axs = plt.subplots(3, pred.shape[0], figsize=(10,4))\n",
    "      for i in range(pred.shape[0]):\n",
    "        axs[0,i].imshow(image[i].cpu().numpy()[:3].transpose(1,2,0))\n",
    "        axs[1,i].imshow(target[i].cpu().numpy(), cmap=\"Set3\", vmin=0, vmax=12)\n",
    "        axs[2,i].imshow(pred[i].detach().argmax(dim=0).cpu().numpy(), cmap=\"Set3\", vmin=0, vmax=12)\n",
    "      plt.setp(plt.gcf().get_axes(), xticks=[], yticks=[])\n",
    "      plt.show()"
   ]
  },
  {
   "cell_type": "code",
   "execution_count": null,
   "metadata": {},
   "outputs": [],
   "source": [
    "fcn = fcn_resnet50(num_classes=13).to(device)\n",
    "fcn.backbone.conv1 = nn.Conv2d(4, 64, kernel_size=(7, 7), stride=(2, 2), padding=(3, 3), bias=False).to(device)\n",
    "\n",
    "crit = CrossEntropyLoss()\n",
    "opt = Adam(fcn.parameters(), lr=1e-3)\n",
    "\n",
    "for epoch in range(101):\n",
    "  losses = []\n",
    "  for i, sample in enumerate(dataloader):\n",
    "    image = sample[\"image\"].to(device).float() / 255.0\n",
    "    target = sample[\"mask\"].to(device).long().squeeze(1)\n",
    "\n",
    "    opt.zero_grad()\n",
    "    pred = fcn(image)[\"out\"]\n",
    "    loss = crit(pred, target)\n",
    "    loss.backward()\n",
    "    opt.step()\n",
    "    losses.append(loss.item())\n",
    "\n",
    "  print(epoch, np.mean(losses))\n",
    "  if epoch % 10 == 0:\n",
    "    with torch.no_grad():\n",
    "      image = testdata[\"image\"].to(device).float() / 255.0\n",
    "      target = testdata[\"mask\"].to(device).long().squeeze(1)\n",
    "      pred = fcn(image)[\"out\"]\n",
    "\n",
    "      fig, axs = plt.subplots(3, pred.shape[0], figsize=(10,4))\n",
    "      for i in range(pred.shape[0]):\n",
    "        axs[0,i].imshow(image[i].cpu().numpy()[:3].transpose(1,2,0))\n",
    "        axs[1,i].imshow(target[i].cpu().numpy(), cmap=\"Set3\", vmin=0, vmax=12)\n",
    "        axs[2,i].imshow(pred[i].detach().argmax(dim=0).cpu().numpy(), cmap=\"Set3\", vmin=0, vmax=12)\n",
    "      plt.setp(plt.gcf().get_axes(), xticks=[], yticks=[])\n",
    "      plt.show()"
   ]
  }
 ],
 "metadata": {
  "kernelspec": {
   "display_name": "",
   "language": "python",
   "name": ""
  },
  "language_info": {
   "codemirror_mode": {
    "name": "ipython",
    "version": 3
   },
   "file_extension": ".py",
   "mimetype": "text/x-python",
   "name": "python",
   "nbconvert_exporter": "python",
   "pygments_lexer": "ipython3",
   "version": "3.11.3"
  },
  "orig_nbformat": 4,
  "vscode": {
   "interpreter": {
    "hash": "3564bae54b830248e5fcf548a4e349b732e585ece6f047dc1ae97c29756580ff"
   }
  }
 },
 "nbformat": 4,
 "nbformat_minor": 2
}
